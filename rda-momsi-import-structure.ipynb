{
 "cells": [
  {
   "cell_type": "code",
   "execution_count": null,
   "id": "f4ff4753-44c8-41dc-ae95-bbf0454716e4",
   "metadata": {},
   "outputs": [
    {
     "name": "stdout",
     "output_type": "stream",
     "text": [
      "3.11.4 (main, Nov  7 2023, 16:51:51) [GCC 11.4.0]\n",
      "2025-04-13 07:20:32\n"
     ]
    },
    {
     "name": "stderr",
     "output_type": "stream",
     "text": [
      "2025-04-13 09:20:44,651\tINFO util.py:154 -- Missing packages: ['ipywidgets']. Run `pip install -U ipywidgets`, then restart the notebook server for rich notebook output.\n"
     ]
    },
    {
     "name": "stdout",
     "output_type": "stream",
     "text": [
      "CPU times: user 762 ms, sys: 1.92 s, total: 2.68 s\n",
      "Wall time: 12 s\n"
     ]
    }
   ],
   "source": [
    "%%time\n",
    "###################################################################################################\n",
    "### IMPORTS AND CONSTANTS\n",
    "###################################################################################################\n",
    "from time import gmtime, strftime\n",
    "from datetime import date, datetime\n",
    "import sys\n",
    "print(sys.version)\n",
    "print(strftime(\"%Y-%m-%d %H:%M:%S\", gmtime()))\n",
    "\n",
    "import warnings\n",
    "warnings.filterwarnings('ignore')\n",
    "\n",
    "from pathlib import Path\n",
    "import whyqd as qd\n",
    "from whyqd.parsers import CoreParser, DataSourceParser\n",
    "\n",
    "# PARSERS\n",
    "core = CoreParser()\n",
    "reader = DataSourceParser()\n",
    "\n",
    "# SOURCE_DIRECTORY = path to downloaded source data\n",
    "STANDARDS = ['genomics', 'proteomics', 'metabolomics', 'universal']\n",
    "INDEX_FIELD = \"FAIRsharing Record (DOI or URL)\"\n",
    "INDICATORS = {\n",
    "    \"genomics\": \"MOMSI_G:\",\n",
    "    \"proteomics\": \"MOMSI_P:\",\n",
    "    \"metabolomics\": \"MOMSI_M:\",\n",
    "    \"universal\": \"MOMSI_U:\",\n",
    "}\n",
    "DATASOURCE_PATH = \"rda-momsi-standards.xlsx\"\n",
    "MIMETYPE = \"xlsx\"\n",
    "SCHEMA_SOURCE = {}\n",
    "DATA_SOURCE = {}"
   ]
  },
  {
   "cell_type": "code",
   "execution_count": 2,
   "id": "a29024dc-01c9-46fc-8d11-a0bb0ad435d9",
   "metadata": {},
   "outputs": [
    {
     "name": "stdout",
     "output_type": "stream",
     "text": [
      "2025-04-13 07:20:48\n",
      "Failed to delete /tmp/.X11-unix. Reason: [Errno 30] Read-only file system: 'X0'\n",
      "Failed to delete /tmp/.XIM-unix. Reason: [Errno 1] Operation not permitted: '/tmp/.XIM-unix'\n",
      "Failed to delete /tmp/.Test-unix. Reason: [Errno 1] Operation not permitted: '/tmp/.Test-unix'\n",
      "Failed to delete /tmp/systemd-private-4c7c17e1d4f44cc880d7b7843cbdb540-systemd-resolved.service-NOThB1. Reason: [Errno 13] Permission denied: '/tmp/systemd-private-4c7c17e1d4f44cc880d7b7843cbdb540-systemd-resolved.service-NOThB1'\n",
      "Failed to delete /tmp/systemd-private-4c7c17e1d4f44cc880d7b7843cbdb540-systemd-timesyncd.service-3g4fUk. Reason: [Errno 13] Permission denied: '/tmp/systemd-private-4c7c17e1d4f44cc880d7b7843cbdb540-systemd-timesyncd.service-3g4fUk'\n",
      "Failed to delete /tmp/systemd-private-4c7c17e1d4f44cc880d7b7843cbdb540-systemd-logind.service-aDH4XS. Reason: [Errno 13] Permission denied: '/tmp/systemd-private-4c7c17e1d4f44cc880d7b7843cbdb540-systemd-logind.service-aDH4XS'\n",
      "Failed to delete /tmp/.ICE-unix. Reason: [Errno 1] Operation not permitted: '/tmp/.ICE-unix'\n",
      "Failed to delete /tmp/snap-private-tmp. Reason: [Errno 13] Permission denied: '/tmp/snap-private-tmp'\n",
      "Failed to delete /tmp/.font-unix. Reason: [Errno 1] Operation not permitted: '/tmp/.font-unix'\n"
     ]
    },
    {
     "name": "stderr",
     "output_type": "stream",
     "text": [
      "2025-04-13 09:20:55,939\tINFO worker.py:1724 -- Started a local Ray instance.\n"
     ]
    },
    {
     "name": "stdout",
     "output_type": "stream",
     "text": [
      "genomics: ['Identifier', 'Standard Type', 'Status', 'Country', 'Domain Class/Subclass', 'Application Technology', 'Standard Name', 'Acronym/Short Name', 'Planning', 'Collection', 'Processing', 'Analysis', 'Preservation', 'Sharing', 'Reuse', 'Meets Criteria', 'Active Affiliation(s)', 'Homepage', 'Reference Article Citation (DOI)', 'Reference Source Code (DOI or URL)', 'FAIRsharing Record (DOI or URL)']\n",
      "proteomics: ['Identifier', 'Standard Type', 'Status', 'Country', 'Domain Class/Subclass', 'Application Technology', 'Standard Name', 'Acronym/Short Name', 'Description', 'Planning', 'Collection', 'Processing', 'Analysis', 'Preservation', 'Sharing', 'Reuse', 'Meets Criteria', 'Active Affiliation(s)', 'Homepage', 'Reference Article Citation (DOI)', 'Reference Source Code (DOI or URL)', 'FAIRsharing Record (DOI or URL)']\n",
      "metabolomics: ['Identifier', 'Standard Type', 'Status', 'Country', 'Domain Class/Subclass', 'Application Technology', 'Standard Name', 'Acronym/Short Name', 'Planning', 'Collection', 'Processing', 'Analysis', 'Preservation', 'Sharing', 'Reuse', 'Meets Criteria', 'Active Affiliation(s)', 'Homepage', 'Reference Article Citation (DOI)', 'Reference Source Code (URL)', 'FAIRsharing Record (DOI or URL)']\n",
      "universal: ['Identifier', 'Standard Type', 'Status', 'Country', 'Domain Class/Subclass', 'Standard Name', 'Acronym/Short Name', 'Planning', 'Collection', 'Processing', 'Analysis', 'Preservation', 'Sharing', 'Reuse', 'Meets Criteria', 'Active Affiliation(s)', 'Homepage', 'Reference Article Citation (DOI)', 'Reference Source Code (DOI or URL)', 'FAIRsharing Record (DOI or URL)']\n",
      "dict_keys(['genomics', 'proteomics', 'metabolomics', 'universal'])\n",
      "CPU times: user 12.6 s, sys: 803 ms, total: 13.4 s\n",
      "Wall time: 46.4 s\n"
     ]
    },
    {
     "data": {
      "text/plain": [
       "True"
      ]
     },
     "execution_count": 2,
     "metadata": {},
     "output_type": "execute_result"
    }
   ],
   "source": [
    "%%time\n",
    "###################################################################################################\n",
    "### RESTRUCTURE AS AN ARRAY OF OBJECTS\n",
    "###################################################################################################\n",
    "print(strftime(\"%Y-%m-%d %H:%M:%S\", gmtime()))\n",
    "\n",
    "# Get data sources from multiple sheets and derive the source schemas for each\n",
    "datasource = qd.DataSourceDefinition()\n",
    "datasource.derive_model(source=DATASOURCE_PATH, mimetype=MIMETYPE)\n",
    "for ds in datasource.get:\n",
    "    # We separate out the individual sheets to transform independently\n",
    "    key = ds.sheet_name.lower().split()[0]\n",
    "    if key in STANDARDS:\n",
    "        # Get the dataframe\n",
    "        df = reader.get(source=ds)\n",
    "        end = list(df.columns).index(\"FAIRsharing Record (DOI or URL)\") + 1\n",
    "        columns = df.columns[:end]\n",
    "        # df = df[columns]\n",
    "        df.dropna(subset=columns[:5], inplace=True)\n",
    "        identifiers = [f\"{INDICATORS[key]}{i:05}\" for i in range(len(df))]\n",
    "        df[\"Identifier\"] = identifiers\n",
    "        columns = columns.insert(0, \"Identifier\")\n",
    "        # df[\"Contributor\"] = None\n",
    "        # columns = columns.insert(len(columns), \"Contributor\")\n",
    "        df = df[columns]\n",
    "        records = df.to_dict(\"records\")\n",
    "        for r in records:\n",
    "            r[\"Contributor\"] = None\n",
    "            r[\"Contributor Name\"] = None\n",
    "            r[\"CRediT\"] = None\n",
    "            r[\"Contributor ORCID ID\"] = None\n",
    "        print(f\"{key}: {list(columns)}\")\n",
    "        # Process for empty rows, and for the first \n",
    "        DATA_SOURCE[key] = records\n",
    "\n",
    "# Show source schemas\n",
    "print(DATA_SOURCE.keys())\n",
    "\n",
    "core.save_json(data=DATA_SOURCE, source=str(SOURCE_DIRECTORY / MOMSI_DATABASE))"
   ]
  }
 ],
 "metadata": {
  "kernelspec": {
   "display_name": "Python 3 (ipykernel)",
   "language": "python",
   "name": "python3"
  },
  "language_info": {
   "codemirror_mode": {
    "name": "ipython",
    "version": 3
   },
   "file_extension": ".py",
   "mimetype": "text/x-python",
   "name": "python",
   "nbconvert_exporter": "python",
   "pygments_lexer": "ipython3",
   "version": "3.11.4"
  }
 },
 "nbformat": 4,
 "nbformat_minor": 5
}
